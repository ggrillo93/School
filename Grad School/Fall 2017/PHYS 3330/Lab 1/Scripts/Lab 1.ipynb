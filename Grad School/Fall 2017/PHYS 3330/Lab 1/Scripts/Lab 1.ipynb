{
 "cells": [
  {
   "cell_type": "code",
   "execution_count": 1,
   "metadata": {
    "collapsed": true
   },
   "outputs": [],
   "source": [
    "import numpy as np\n",
    "import uncertainties as unc\n",
    "from matplotlib import pyplot as plt\n",
    "from uncertainties import unumpy as unp\n",
    "from uncertainties.umath import *\n",
    "import scipy.odr as odr"
   ]
  },
  {
   "cell_type": "markdown",
   "metadata": {},
   "source": [
    "1A: Reflection"
   ]
  },
  {
   "cell_type": "code",
   "execution_count": 27,
   "metadata": {
    "collapsed": true
   },
   "outputs": [],
   "source": [
    "xvec = unp.uarray([7, 9, 11, 9, 9, 6], 0.5*np.ones(6))\n",
    "yvec = unp.uarray([7, 11, 6, 3, 8, 3], 0.5*np.ones(6))\n",
    "thetai = unp.uarray([22, 26, 14, 9, 20, 13], np.ones(6))\n",
    "alpha = unp.arctan(xvec/yvec)*180/np.pi\n",
    "thetain = unp.nominal_values(thetai)\n",
    "thetaierr = unp.std_devs(thetai)\n",
    "alphan = unp.nominal_values(alpha)\n",
    "alphaerr = unp.std_devs(alpha)\n",
    "p = np.argsort(thetain)\n",
    "alphan, alphaerr, thetain, thetaierr = alphan[p], alphaerr[p], thetain[p], thetaierr[p]"
   ]
  },
  {
   "cell_type": "code",
   "execution_count": 97,
   "metadata": {},
   "outputs": [
    {
     "name": "stdout",
     "output_type": "stream",
     "text": [
      "Beta: [ -1.92430595  88.24838325]\n",
      "Beta Std Error: [ 0.07904642  1.55724821]\n",
      "Beta Covariance: [[  0.12553515  -2.36095985]\n",
      " [ -2.36095985  48.7210464 ]]\n",
      "Residual Variance: 0.0497736026248\n",
      "Inverse Condition #: 0.099524381935\n",
      "Reason(s) for Halting:\n",
      "  Sum of squares convergence\n"
     ]
    }
   ],
   "source": [
    "def linearf(B, x):\n",
    "    return B[0]*x+B[1]\n",
    "linearm = odr.Model(linearf)\n",
    "data = odr.RealData(thetain, alphan, sx=alphaerr, sy=thetaierr)\n",
    "myodr = odr.ODR(data, linearm, beta0=[-2., 90])\n",
    "output = myodr.run()\n",
    "output.pprint()"
   ]
  },
  {
   "cell_type": "code",
   "execution_count": 38,
   "metadata": {},
   "outputs": [
    {
     "data": {
      "image/png": "[encoded data removed]",
      "text/plain": [
       "<matplotlib.figure.Figure at 0x7fbcbeeb9490>"
      ]
     },
     "metadata": {},
     "output_type": "display_data"
    }
   ],
   "source": [
    "fitx = np.linspace(0, 30, 10)\n",
    "m, n = output.beta\n",
    "fity = m*fitx + n\n",
    "fig, ax = plt.subplots(figsize = (10, 7))\n",
    "ax.errorbar(thetain, alphan, xerr = alphaerr, yerr = thetarerr, fmt = 'o', capsize = 2, color = 'blue')\n",
    "ax.set_xlabel(r'$\\theta_i \\, (^\\circ)$')\n",
    "ax.set_ylabel(r'$\\alpha (^\\circ)$')\n",
    "ax.plot(fitx, fity, color = 'red')\n",
    "ax.set_xlim([0, 30])\n",
    "ax.grid(True)\n",
    "plt.show()"
   ]
  },
  {
   "cell_type": "markdown",
   "metadata": {},
   "source": [
    "1B: Snell's Law"
   ]
  },
  {
   "cell_type": "markdown",
   "metadata": {},
   "source": [
    "$n_w = \\frac{a}{bd_{mt} - ad_{mw}} \\sqrt{\\frac{\\left(bd_{mt} -ad_{mw}\\right)^2 + d_{mt}^2d_{wt}^2}{a^2 + d_{mt}^2}}$"
   ]
  },
  {
   "cell_type": "markdown",
   "metadata": {},
   "source": [
    "Nominal value of $n_w \\approx 1.33$ "
   ]
  },
  {
   "cell_type": "code",
   "execution_count": 39,
   "metadata": {
    "collapsed": true
   },
   "outputs": [],
   "source": [
    "def refindexsnell(a, b, dmt, dwt):\n",
    "    dmw = dmt - dwt\n",
    "    n = a/(b*dmt - a*dmw)*(((b*dmt - a*dmw)**2 + dmt**2*dwt**2)/(a**2 + dmt**2))**0.5\n",
    "    return n"
   ]
  },
  {
   "cell_type": "code",
   "execution_count": 40,
   "metadata": {
    "collapsed": true
   },
   "outputs": [],
   "source": [
    "def xaxis(a, b, dmt, dwt):\n",
    "    dmw = dmt - dwt\n",
    "    return b*dmt - a*dmw\n",
    "\n",
    "def yaxis(a, b, dmt, dwt):\n",
    "    dmw = dmt - dwt\n",
    "    return a*(((b*dmt - a*dmw)**2 + dmt**2*dwt**2)/(a**2 + dmt**2))**0.5"
   ]
  },
  {
   "cell_type": "code",
   "execution_count": 41,
   "metadata": {
    "collapsed": true
   },
   "outputs": [],
   "source": [
    "avec = unp.uarray(range(1, 9), np.ones(8)*0.05)\n",
    "bvec = unp.uarray([0.95, 1.9, 2.8, 3.75, 4.65, 5.55, 6.5, 7.4], np.ones(8)*0.05)\n",
    "dmt = unc.ufloat(14.5, 0.1)\n",
    "dwt = unc.ufloat(4, 0.1)\n",
    "yvec = yaxis(avec, bvec, dmt, dwt)\n",
    "yvecn = unp.nominal_values(yvec)\n",
    "yvecerr = unp.std_devs(yvec)\n",
    "xvec = xaxis(avec, bvec, dmt, dwt)\n",
    "xvecn = unp.nominal_values(xvec)\n",
    "xvecerr = unp.std_devs(xvec)"
   ]
  },
  {
   "cell_type": "code",
   "execution_count": 42,
   "metadata": {},
   "outputs": [
    {
     "name": "stdout",
     "output_type": "stream",
     "text": [
      "Beta: [ 1.29664025]\n",
      "Beta Std Error: [ 0.00873353]\n",
      "Beta Covariance: [[ 0.00133458]]\n",
      "Residual Variance: 0.0571525550002\n",
      "Inverse Condition #: 1.0\n",
      "Reason(s) for Halting:\n",
      "  Sum of squares convergence\n"
     ]
    }
   ],
   "source": [
    "def linearf2(B, x):\n",
    "    return B[0]*x\n",
    "linearm2 = odr.Model(linearf2)\n",
    "data = odr.RealData(xvecn, yvecn, sx=xvecerr, sy=yvecerr)\n",
    "myodr = odr.ODR(data, linearm2, beta0=[1.])\n",
    "output = myodr.run()\n",
    "output.pprint()"
   ]
  },
  {
   "cell_type": "code",
   "execution_count": 46,
   "metadata": {},
   "outputs": [
    {
     "data": {
      "image/png": "[encoded data removed]",
      "text/plain": [
       "<matplotlib.figure.Figure at 0x7fbcc2a6c7d0>"
      ]
     },
     "metadata": {},
     "output_type": "display_data"
    }
   ],
   "source": [
    "fig, ax = plt.subplots(figsize = (10, 7))\n",
    "ax.errorbar(xvecn, yvecn, yerr = yvecerr, capsize = 2, fmt = 'o', color = 'blue')\n",
    "xmodel = np.linspace(0, 25, 10)\n",
    "ax.plot(xmodel, output.beta[0]*xmodel, color = 'red')\n",
    "ax.set_xlabel(r'$\\nu \\: (cm^2)$')\n",
    "ax.set_ylabel(r'$\\tau \\: (cm^2)$')\n",
    "ax.grid(True)\n",
    "plt.show()"
   ]
  },
  {
   "cell_type": "markdown",
   "metadata": {
    "collapsed": true
   },
   "source": [
    "1C: Index of refraction using glass prism"
   ]
  },
  {
   "cell_type": "markdown",
   "metadata": {},
   "source": [
    "$n_p = \\frac{\\sin \\left(\\frac{\\delta_{min} + \\epsilon}{2}\\right)}{\\sin \\left(\\frac{\\epsilon}{2}\\right)}$"
   ]
  },
  {
   "cell_type": "markdown",
   "metadata": {},
   "source": [
    "$\\delta_{min} = \\arctan \\left(\\frac{y}{x}\\right)$"
   ]
  },
  {
   "cell_type": "markdown",
   "metadata": {},
   "source": [
    "Nominal value of $n_p \\approx 1.517$"
   ]
  },
  {
   "cell_type": "code",
   "execution_count": 14,
   "metadata": {
    "collapsed": true
   },
   "outputs": [],
   "source": [
    "def refindexprism(x, y, eps):\n",
    "    x = unc.ufloat(x, 0.1)\n",
    "    y = unc.ufloat(y, 0.1)\n",
    "    eps = unc.ufloat(eps, np.pi/180.)\n",
    "    delta = unp.arctan(y/x)\n",
    "    n = unp.sin((delta + eps)/2.)/unp.sin(eps/2.)\n",
    "    return n"
   ]
  },
  {
   "cell_type": "code",
   "execution_count": 15,
   "metadata": {
    "collapsed": true
   },
   "outputs": [],
   "source": [
    "def refindexprismb(delta, eps):\n",
    "    eps = unc.ufloat(np.deg2rad(eps), np.deg2rad(1.))\n",
    "    delta = unc.ufloat(np.deg2rad(delta), np.deg2rad(1.))\n",
    "    n = unp.sin((delta + eps)/2.)/unp.sin(eps/2.)\n",
    "    return n"
   ]
  },
  {
   "cell_type": "code",
   "execution_count": 49,
   "metadata": {},
   "outputs": [
    {
     "data": {
      "text/plain": [
       "1.5090136465882944+/-0.013572559054253553"
      ]
     },
     "execution_count": 49,
     "metadata": {},
     "output_type": "execute_result"
    }
   ],
   "source": [
    "Y = unc.ufloat(14.1, 0.1)\n",
    "X = unc.ufloat(29.5, 0.1)\n",
    "eps = unc.ufloat(np.deg2rad(45), np.deg2rad(1))\n",
    "delta = unp.arctan(Y/X)\n",
    "n = unp.sin(0.5*(delta+eps))/unp.sin(0.5*eps)\n",
    "n"
   ]
  },
  {
   "cell_type": "markdown",
   "metadata": {},
   "source": [
    "1D: Index of refraction using glass slab"
   ]
  },
  {
   "cell_type": "markdown",
   "metadata": {},
   "source": [
    "$n_p = \\left[\\left(\\frac{\\cos \\theta}{1 - \\frac{\\Delta x}{d \\sin \\theta}}\\right)^2 + \\sin^2 \\theta \\right]^{\\frac{1}{2}}$"
   ]
  },
  {
   "cell_type": "code",
   "execution_count": 51,
   "metadata": {},
   "outputs": [
    {
     "name": "stdout",
     "output_type": "stream",
     "text": [
      "Beta: [ 1.51419499]\n",
      "Beta Std Error: [ 0.00925409]\n",
      "Beta Covariance: [[ 0.00054587]]\n",
      "Residual Variance: 0.156885093617\n",
      "Inverse Condition #: 1.0\n",
      "Reason(s) for Halting:\n",
      "  Sum of squares convergence\n"
     ]
    }
   ],
   "source": [
    "thetavec = np.array([2, 5, 8, 10, 15, 20, 25, 30])\n",
    "dxvec = np.array([0.15, 0.39, 0.54, 0.66, 0.98, 1.33, 1.79, 2.15])\n",
    "\n",
    "def g(B, th):\n",
    "    return np.sin(th)*(1-np.cos(th)/np.sqrt(B[0]**2-np.sin(th)**2))\n",
    "\n",
    "thvec = unp.uarray(np.deg2rad(thetavec), np.deg2rad(np.ones(8)))\n",
    "dxvec = unp.uarray(dxvec, np.ones(8)*0.05)\n",
    "thvecn, thvecerr = unp.nominal_values(thvec), unp.std_devs(thvec)\n",
    "sdxvec = dxvec/unc.ufloat(11, 0.05)\n",
    "sdxvecn, sdxvecerr = unp.nominal_values(sdxvec), unp.std_devs(sdxvec)\n",
    "model = odr.Model(g)\n",
    "data = odr.RealData(thvecn, sdxvecn, sx=thvecerr, sy=sdxvecerr)\n",
    "myodr = odr.ODR(data, model, beta0=[1.])\n",
    "myoutput = myodr.run()\n",
    "myoutput.pprint()"
   ]
  },
  {
   "cell_type": "code",
   "execution_count": 56,
   "metadata": {},
   "outputs": [
    {
     "data": {
      "image/png": "[encoded data removed]",
      "text/plain": [
       "<matplotlib.figure.Figure at 0x7fbcbe87b3d0>"
      ]
     },
     "metadata": {},
     "output_type": "display_data"
    }
   ],
   "source": [
    "fig, ax = plt.subplots(figsize = (10, 7))\n",
    "ax.errorbar(thetavec, sdxvecn, xerr = np.ones(8), yerr = sdxvecerr, fmt = 'o', color = 'blue', capsize = 2)\n",
    "fitx = np.linspace(0, 32, 100)\n",
    "fit = g(myoutput.beta, np.deg2rad(fitx))\n",
    "ax.plot(fitx, fit, color = 'red')\n",
    "ax.set_xlabel(r'$\\theta \\, (^\\circ)$')\n",
    "ax.set_ylabel(r'$\\frac{\\Delta x}{d}$')\n",
    "ax.grid(True)\n",
    "plt.show()"
   ]
  },
  {
   "cell_type": "markdown",
   "metadata": {},
   "source": [
    "1E: Refractive Index from Total Internal Reflection"
   ]
  },
  {
   "cell_type": "code",
   "execution_count": 80,
   "metadata": {
    "collapsed": true
   },
   "outputs": [],
   "source": [
    "def refindextir1(x, y, eps):\n",
    "    x = unc.ufloat(x, 0.5)\n",
    "    y = unc.ufloat(y, 0.5)\n",
    "    eps = unc.ufloat(eps, 1)\n",
    "    eps = eps*np.pi/180\n",
    "    n = (1 + ((unp.cos(eps) + unp.sin(-np.pi/2. + eps + unp.arctan(y/x)))/unp.sin(eps))**2)**0.5\n",
    "    return n"
   ]
  },
  {
   "cell_type": "code",
   "execution_count": 86,
   "metadata": {},
   "outputs": [
    {
     "data": {
      "text/plain": [
       "[51.340191745909912, 2.237024356724548]"
      ]
     },
     "execution_count": 86,
     "metadata": {},
     "output_type": "execute_result"
    }
   ],
   "source": [
    "x = unc.ufloat(8, 0.5)\n",
    "y = unc.ufloat(10, 0.5)\n",
    "[np.rad2deg(unp.nominal_values(unp.arctan(y/x))), np.rad2deg(unp.std_devs(unp.arctan(y/x)))]"
   ]
  },
  {
   "cell_type": "code",
   "execution_count": 81,
   "metadata": {},
   "outputs": [],
   "source": [
    "n1 = refindextir1(8, 10, 45)"
   ]
  },
  {
   "cell_type": "code",
   "execution_count": 82,
   "metadata": {},
   "outputs": [
    {
     "data": {
      "text/plain": [
       "1.5286391881930972+/-0.042672872648914284"
      ]
     },
     "execution_count": 82,
     "metadata": {},
     "output_type": "execute_result"
    }
   ],
   "source": [
    "n1"
   ]
  },
  {
   "cell_type": "code",
   "execution_count": 62,
   "metadata": {
    "collapsed": true
   },
   "outputs": [],
   "source": [
    "def refindextir2(phi, eps):\n",
    "    phi = unc.ufloat(phi, 1)\n",
    "    phi = phi*np.pi/180\n",
    "    eps = unc.ufloat(eps, 1)\n",
    "    eps = eps*np.pi/180\n",
    "    n = (1 + ((unp.cos(eps) + unp.sin(phi))/unp.sin(eps))**2)**0.5\n",
    "    return n"
   ]
  },
  {
   "cell_type": "code",
   "execution_count": 63,
   "metadata": {},
   "outputs": [],
   "source": [
    "n2 = refindextir2(6, 45)"
   ]
  },
  {
   "cell_type": "code",
   "execution_count": 68,
   "metadata": {},
   "outputs": [
    {
     "data": {
      "text/plain": [
       "1.5223348974783641+/-0.03378536961124875"
      ]
     },
     "execution_count": 68,
     "metadata": {},
     "output_type": "execute_result"
    }
   ],
   "source": [
    "n2"
   ]
  },
  {
   "cell_type": "code",
   "execution_count": 87,
   "metadata": {},
   "outputs": [],
   "source": [
    "n1n = n1.nominal_value\n",
    "n1err = n1.std_dev\n",
    "n2n = n2.nominal_value\n",
    "n2err = n2.std_dev\n",
    "nav = np.average([n1n, n2n], weights = 1./np.array([n1err, n2err])**2)\n",
    "std = np.average((np.array([n1n,n2n])-nav)**2, weights=1./np.array([n1err, n2err])**2)**0.5"
   ]
  },
  {
   "cell_type": "code",
   "execution_count": 88,
   "metadata": {},
   "outputs": [
    {
     "data": {
      "text/plain": [
       "[1.5247640018670827, 0.0030680991039442776]"
      ]
     },
     "execution_count": 88,
     "metadata": {},
     "output_type": "execute_result"
    }
   ],
   "source": [
    "[nav, std]"
   ]
  },
  {
   "cell_type": "markdown",
   "metadata": {},
   "source": [
    "1F: Refractive Index using Reflection"
   ]
  },
  {
   "cell_type": "code",
   "execution_count": 159,
   "metadata": {},
   "outputs": [],
   "source": [
    "I0 = unc.ufloat(5550, 10)-unc.ufloat(20, 5)"
   ]
  },
  {
   "cell_type": "code",
   "execution_count": 160,
   "metadata": {},
   "outputs": [
    {
     "data": {
      "image/png": "[encoded data removed]",
      "text/plain": [
       "<matplotlib.figure.Figure at 0x7fbcbe888490>"
      ]
     },
     "metadata": {},
     "output_type": "display_data"
    }
   ],
   "source": [
    "thvecn = np.array([4, 6, 10, 13, 19, 25])\n",
    "thvecerr = np.ones(6)\n",
    "lightsmv = unc.ufloat(20, 5)\n",
    "lights = lightsmv/1000.\n",
    "Ivec = unp.uarray([5.28, 5.27, 5.23, 5.23, 5.25, 5.18], 0.05*np.ones(6))-lights\n",
    "Ivecn = unp.nominal_values(Ivec)\n",
    "Ivecerr = unp.std_devs(Ivec)\n",
    "plt.errorbar(thvecn, Ivecn, xerr = thvecerr, yerr = Ivecerr, fmt = 'o', color ='blue', capsize = 3)\n",
    "plt.show()"
   ]
  },
  {
   "cell_type": "code",
   "execution_count": 161,
   "metadata": {},
   "outputs": [
    {
     "name": "stdout",
     "output_type": "stream",
     "text": [
      "Beta: [ -3.77248547e-03   5.26841356e+00]\n",
      "Beta Std Error: [ 0.0012153   0.01793674]\n",
      "Beta Covariance: [[  7.96431236e-06  -1.02208694e-04]\n",
      " [ -1.02208694e-04   1.73488377e-03]]\n",
      "Residual Variance: 0.185445684487\n",
      "Inverse Condition #: 0.032568477376\n",
      "Reason(s) for Halting:\n",
      "  Sum of squares convergence\n"
     ]
    }
   ],
   "source": [
    "data = odr.RealData(thvecn, Ivecn, sx=thvecerr, sy=Ivecerr)\n",
    "myodr = odr.ODR(data, linearm, beta0=[-1., 1])\n",
    "myoutput = myodr.run()\n",
    "myoutput.pprint()"
   ]
  },
  {
   "cell_type": "code",
   "execution_count": 162,
   "metadata": {},
   "outputs": [
    {
     "data": {
      "image/png": "[encoded data removed]",
      "text/plain": [
       "<matplotlib.figure.Figure at 0x7fbcbe393b50>"
      ]
     },
     "metadata": {},
     "output_type": "display_data"
    }
   ],
   "source": [
    "fig, ax = plt.subplots(figsize = (10, 7))\n",
    "ax.errorbar(thvecn, Ivecn, xerr = thvecerr, yerr = Ivecerr, fmt = 'o', color = 'blue', capsize = 2)\n",
    "fitx = np.linspace(0, 27, 100)\n",
    "fit = myoutput.beta[0]*fitx + myoutput.beta[1]\n",
    "ax.plot(fitx, fit, color = 'red')\n",
    "ax.set_xlabel(r'$\\theta \\, (^\\circ)$')\n",
    "ax.set_ylabel(r'$I_r \\,(V)$')\n",
    "ax.grid(True)\n",
    "plt.show()"
   ]
  },
  {
   "cell_type": "code",
   "execution_count": 163,
   "metadata": {},
   "outputs": [
    {
     "data": {
      "text/plain": [
       "0.9526968468916811+/-0.003772329686913377"
      ]
     },
     "execution_count": 163,
     "metadata": {},
     "output_type": "execute_result"
    }
   ],
   "source": [
    "Imax = unc.ufloat(myoutput.beta[1], myoutput.sd_beta[1])\n",
    "Rm = Imax/(I0/1000)\n",
    "Rm"
   ]
  },
  {
   "cell_type": "code",
   "execution_count": 164,
   "metadata": {
    "collapsed": true
   },
   "outputs": [],
   "source": [
    "Rm = unc.ufloat(0.9528588, 0.00323643)\n",
    "Ir2 = unc.ufloat(336, 5)-lightsmv\n",
    "Ir1 = unc.ufloat(46, 5)-lightsmv\n",
    "Rp = Ir1*Rm/(2*Ir2)"
   ]
  },
  {
   "cell_type": "code",
   "execution_count": 165,
   "metadata": {},
   "outputs": [
    {
     "data": {
      "text/plain": [
       "0.03919988734177215+/-0.010251431456246669"
      ]
     },
     "execution_count": 165,
     "metadata": {},
     "output_type": "execute_result"
    }
   ],
   "source": [
    "Rp # reflection coefficient of prism for part iii)"
   ]
  },
  {
   "cell_type": "code",
   "execution_count": 166,
   "metadata": {},
   "outputs": [],
   "source": [
    "def refindex1F(Rp):\n",
    "    return (-1 - Rp - 2*Rp**0.5)/(Rp-1)"
   ]
  },
  {
   "cell_type": "code",
   "execution_count": 167,
   "metadata": {},
   "outputs": [],
   "source": [
    "n1 = refindex1F(Rp)"
   ]
  },
  {
   "cell_type": "code",
   "execution_count": 168,
   "metadata": {},
   "outputs": [
    {
     "data": {
      "image/png": "[encoded data removed]",
      "text/plain": [
       "<matplotlib.figure.Figure at 0x7fbcc2a75210>"
      ]
     },
     "metadata": {},
     "output_type": "display_data"
    }
   ],
   "source": [
    "Ivec2 = unp.uarray([209, 212, 224, 237, 284, 339, 407], np.ones(7)*5)-lightsmv\n",
    "Ivec2n = unp.nominal_values(Ivec2)\n",
    "Ivec2err = unp.std_devs(Ivec2)\n",
    "thvec2 = unp.uarray([30, 24, 18, 12, 9, 6, 4], np.ones(7))\n",
    "thvec2n = unp.nominal_values(thvec2)\n",
    "thvec2err = unp.std_devs(thvec2)\n",
    "plt.errorbar(thvec2n, Ivec2n, xerr = thvec2err, yerr = Ivec2err, capsize = 2, fmt = 'o', color = 'blue')\n",
    "plt.show()"
   ]
  },
  {
   "cell_type": "code",
   "execution_count": 169,
   "metadata": {},
   "outputs": [
    {
     "name": "stdout",
     "output_type": "stream",
     "text": [
      "Beta: [ 241.10387581   13.26079984  194.18012008]\n",
      "Beta Std Error: [ 25.92018892   1.05949809   3.23060789]\n",
      "Beta Covariance: [[ 1163.95580555   -32.05428657     5.81004987]\n",
      " [  -32.05428657     1.94473539    -2.29990701]\n",
      " [    5.81004987    -2.29990701    18.08125892]]\n",
      "Residual Variance: 0.577217958406\n",
      "Inverse Condition #: 0.121202051531\n",
      "Reason(s) for Halting:\n",
      "  Sum of squares convergence\n"
     ]
    }
   ],
   "source": [
    "def gaussian(B, x):\n",
    "    height, fwhm, offset = B\n",
    "    e=(-4*np.log(2)*(x**2))/fwhm**2\n",
    "    g=height*np.exp(e) + offset\n",
    "    return g\n",
    "\n",
    "model = odr.Model(gaussian)\n",
    "data = odr.RealData(thvec2n, Ivec2n, sx=thvec2err, sy=Ivec2err)\n",
    "myodr = odr.ODR(data, model, beta0=[400, 10, 200])\n",
    "myoutput = myodr.run()\n",
    "myoutput.pprint()"
   ]
  },
  {
   "cell_type": "code",
   "execution_count": 170,
   "metadata": {},
   "outputs": [
    {
     "data": {
      "image/png": "[encoded data removed]",
      "text/plain": [
       "<matplotlib.figure.Figure at 0x7fbcbe393d90>"
      ]
     },
     "metadata": {},
     "output_type": "display_data"
    }
   ],
   "source": [
    "fitx = np.linspace(0, 32, 100)\n",
    "fit = gaussian(myoutput.beta, fitx)\n",
    "fig, ax = plt.subplots(figsize = (10, 7))\n",
    "ax.errorbar(thvec2n, Ivec2n, xerr = thvec2err, yerr = Ivec2err, capsize = 2, fmt = 'o', color = 'blue')\n",
    "ax.plot(fitx, fit, color = 'red')\n",
    "ax.set_xlabel(r'$\\theta \\, (^\\circ)$')\n",
    "ax.set_ylabel(r'$I_r \\, (mV)$')\n",
    "ax.grid(True)\n",
    "plt.show()"
   ]
  },
  {
   "cell_type": "code",
   "execution_count": 171,
   "metadata": {
    "collapsed": true
   },
   "outputs": [],
   "source": [
    "par, err = myoutput.beta, myoutput.sd_beta\n",
    "Rp = (unc.ufloat(par[0], err[0]) + unc.ufloat(par[2], err[2]))/(2*I0)"
   ]
  },
  {
   "cell_type": "code",
   "execution_count": 172,
   "metadata": {},
   "outputs": [],
   "source": [
    "n2 = refindex1F(Rp)"
   ]
  },
  {
   "cell_type": "code",
   "execution_count": 156,
   "metadata": {},
   "outputs": [
    {
     "data": {
      "text/plain": [
       "435.28399588597165+/-26.120739291075203"
      ]
     },
     "execution_count": 156,
     "metadata": {},
     "output_type": "execute_result"
    }
   ],
   "source": [
    "unc.ufloat(par[0], err[0]) + unc.ufloat(par[2], err[2])"
   ]
  },
  {
   "cell_type": "code",
   "execution_count": 157,
   "metadata": {},
   "outputs": [
    {
     "data": {
      "text/plain": [
       "0.03919988734177215+/-0.010251431456246669"
      ]
     },
     "execution_count": 157,
     "metadata": {},
     "output_type": "execute_result"
    }
   ],
   "source": [
    "Rp"
   ]
  },
  {
   "cell_type": "code",
   "execution_count": 173,
   "metadata": {
    "collapsed": true
   },
   "outputs": [],
   "source": [
    "n1n = n1.nominal_value\n",
    "n1err = n1.std_dev\n",
    "n2n = n2.nominal_value\n",
    "n2err = n2.std_dev\n",
    "nav = np.average([n1n, n2n], weights = 1./np.array([n1err, n2err])**2)\n",
    "std = np.average((np.array([n1n,n2n])-nav)**2, weights=1./np.array([n1err, n2err])**2)**0.5"
   ]
  },
  {
   "cell_type": "code",
   "execution_count": 174,
   "metadata": {},
   "outputs": [
    {
     "data": {
      "text/plain": [
       "1.4949012912041406"
      ]
     },
     "execution_count": 174,
     "metadata": {},
     "output_type": "execute_result"
    }
   ],
   "source": [
    "nav"
   ]
  },
  {
   "cell_type": "code",
   "execution_count": 176,
   "metadata": {},
   "outputs": [
    {
     "data": {
      "text/plain": [
       "1.4949632282515213+/-0.018536861385181548"
      ]
     },
     "execution_count": 176,
     "metadata": {},
     "output_type": "execute_result"
    }
   ],
   "source": [
    "n2"
   ]
  },
  {
   "cell_type": "code",
   "execution_count": 177,
   "metadata": {},
   "outputs": [
    {
     "data": {
      "text/plain": [
       "5530.0+/-11.180339887498949"
      ]
     },
     "execution_count": 177,
     "metadata": {},
     "output_type": "execute_result"
    }
   ],
   "source": [
    "I0"
   ]
  },
  {
   "cell_type": "code",
   "execution_count": null,
   "metadata": {
    "collapsed": true
   },
   "outputs": [],
   "source": []
  }
 ],
 "metadata": {
  "kernelspec": {
   "display_name": "Python 2",
   "language": "python",
   "name": "python2"
  },
  "language_info": {
   "codemirror_mode": {
    "name": "ipython",
    "version": 2
   },
   "file_extension": ".py",
   "mimetype": "text/x-python",
   "name": "python",
   "nbconvert_exporter": "python",
   "pygments_lexer": "ipython2",
   "version": "2.7.13"
  }
 },
 "nbformat": 4,
 "nbformat_minor": 2
}
