{
 "cells": [
  {
   "cell_type": "code",
   "execution_count": 4,
   "metadata": {
    "collapsed": false
   },
   "outputs": [],
   "source": [
    "from numpy import *\n",
    "from numpy import fft as fft\n",
    "from pandas import read_csv\n",
    "from matplotlib.pyplot import *\n",
    "from matplotlib import pyplot as plt\n",
    "from astropy.table import Table\n",
    "from astropy.stats import LombScargle\n",
    "from scipy import signal\n",
    "from detect_peaks import *\n",
    "import uncertainties as unc\n",
    "from uncertainties import unumpy as unp\n",
    "import glob\n",
    "\n",
    "path = '/home/gian/Documents/School/Grad School/Spring 2017/ASTRO 6523/Final Project/Figures/'\n",
    "def gaussian(height,center,fwhm,xvec):\n",
    "    e=(-4*np.log(2)**2*(xvec-center)**2)/(fwhm**2)\n",
    "    g=height*np.exp(e)\n",
    "    return -g\n",
    "\n",
    "def whiten(timeflux, minpeak, quarter = '', nit = 5, p = False):\n",
    "    n = 1\n",
    "    if p == True:\n",
    "        f, axarr = plt.subplots(nit-1, sharex = True, figsize=(15,15))\n",
    "    time = timeflux[0]\n",
    "    phase = timeflux[1]\n",
    "    flux = timeflux[2]\n",
    "    fluxerr = timeflux[3]\n",
    "    while n < nit:\n",
    "        flux = flux-mean(flux)\n",
    "        fluxerr = abs(fluxerr-mean(fluxerr))\n",
    "        if p == True:\n",
    "            axarr[n-1].scatter(phase,flux,marker='+',color='b')\n",
    "        freq, power = LombScargle(phase,flux).autopower()\n",
    "        plt.figure()\n",
    "        plt.plot(freq,power)\n",
    "        plt.title('Lomb-Scargle Periodogram, Q'+quarter)\n",
    "        plt.ylabel('Power (arb)')\n",
    "        plt.xlabel('Frequency (1/phase)')\n",
    "        plt.savefig(path+'periodogram'+quarter+'.png')\n",
    "        plt.close()\n",
    "        peak = power.argmax()\n",
    "        best = freq[peak]\n",
    "        if best < minpeak:\n",
    "            print(\"Peak too small\")\n",
    "            break\n",
    "        else:\n",
    "            y = LombScargle(phase,flux).model(phase,best)\n",
    "            if p == True:\n",
    "                axarr[n-1].plot(phase,y,color='r')\n",
    "                axarr[n-1].set_ylim(min(flux)-0.01,max(flux))\n",
    "            flux = subtract(flux, y)\n",
    "            n = n + 1\n",
    "    plt.setp([a.get_xticklabels() for a in axarr[0:-1]], visible=False)\n",
    "    plt.xlabel('Phase')\n",
    "    f.text(0.04,0.5,'Normalized flux', va = 'center', rotation='vertical')\n",
    "    axarr[0].set_title('Lomb-Scargle Whitening' + ', Q'+quarter)\n",
    "    savefig(path+'white' +quarter+'.png')\n",
    "    return asarray([time,phase,flux,fluxerr])\n",
    "\n",
    "def readclean(name, fmt, hd, cadence):\n",
    "    data = asarray(Table.read(name, format = fmt, hdu = hd))\n",
    "    time = []\n",
    "    flux = []\n",
    "    fluxerr = []\n",
    "    phase = []\n",
    "    tinit, tfin = data[0][0], data[-1][0]\n",
    "    diff = tfin-tinit\n",
    "    if cadence == 'long':\n",
    "        for i in data:\n",
    "            if isnan(i[4]) == False:\n",
    "                time.append(i[0])\n",
    "                flux.append(i[4])\n",
    "                phase.append((i[0]-tinit)/diff)\n",
    "        return asarray([time,phase,flux,tinit,tfin])\n",
    "    elif cadence == 'short':\n",
    "        for n in range(len(data)):\n",
    "            if isnan(data[n][3]) == False and n < len(data)-1:\n",
    "                diff2 = abs(data[n+1][3]-data[n][3])\n",
    "                if diff2 < 50:\n",
    "                    time.append(data[n][0])\n",
    "                    flux.append(data[n][3])\n",
    "                    fluxerr.append(data[n][4])\n",
    "                    phase.append((data[n][0]-tinit)/diff)\n",
    "        return asarray([time,phase,flux,fluxerr])\n",
    "    else:\n",
    "        print(\"Cadence not valid\")\n",
    "        return\n",
    "\n",
    "def scplot(data, q):\n",
    "    q = str(q)\n",
    "    fig = plt.figure(figsize = (10,5))\n",
    "    ax1 = fig.add_subplot(111)\n",
    "    ax2 = ax1.twiny()\n",
    "    ax1.scatter(data[0],data[2], marker = '+', c = 'b')\n",
    "    ax1.set_xlabel('Time (BJD days)')\n",
    "    ax2.plot(data[1], ones(len(data[0])))\n",
    "    ax2.set_xlabel('Phase')\n",
    "    ax1.set_ylim(min(data[2])-150, max(data[2])+150)\n",
    "    ax1.set_ylabel('Flux (electrons/s)')\n",
    "    plt.title('Short Cadence Light Curve for Kepler-75, (Q'+q+')', y=1.15)\n",
    "    plt.tight_layout()\n",
    "    plt.savefig('sclc'+q+'.png')\n",
    "    return\n",
    "\n",
    "def findwidth(transit,amp):\n",
    "    l = []\n",
    "    for n in range(len(transit[0])-1):\n",
    "        time = transit[0][n]\n",
    "        flux1 = transit[1][n]\n",
    "        flux2 = transit[1][n+1]\n",
    "        if abs(flux1) >= amp/2. and flux1 < 0 and abs(flux2) >= amp/2. and flux2 < 0:\n",
    "            l.append(time)\n",
    "    return l[-1]-l[0]"
   ]
  },
  {
   "cell_type": "code",
   "execution_count": 10,
   "metadata": {
    "collapsed": false
   },
   "outputs": [],
   "source": [
    "fits = sorted(glob.glob('*slc.fits'))\n",
    "bad = [3,8,12,16]\n",
    "nitlist = [6,7,8,6,7,8,6,6,0,6,7,7,0,6,7,8,0,7]\n",
    "d = readclean(fits[6],'fits',1,'short')\n",
    "w = whiten(d, 0.01, quarter = str(7), nit = 6, p = True)"
   ]
  },
  {
   "cell_type": "code",
   "execution_count": 8,
   "metadata": {
    "collapsed": true
   },
   "outputs": [],
   "source": [
    "for n in range(len(fits)):\n",
    "    f = fits[n]\n",
    "    d = readclean(f, 'fits', 1, 'short')\n",
    "    scplot(d,n+1)"
   ]
  },
  {
   "cell_type": "code",
   "execution_count": 3,
   "metadata": {
    "collapsed": false
   },
   "outputs": [
    {
     "name": "stderr",
     "output_type": "stream",
     "text": [
      "/usr/local/anaconda2/lib/python2.7/site-packages/matplotlib/pyplot.py:524: RuntimeWarning: More than 20 figures have been opened. Figures created through the pyplot interface (`matplotlib.pyplot.figure`) are retained until explicitly closed and may consume too much memory. (To control this warning, see the rcParam `figure.max_open_warning`).\n",
      "  max_open_warning, RuntimeWarning)\n"
     ]
    },
    {
     "data": {
      "text/plain": [
       "(8.8838429572417894,\n",
       " 0.0032592156271981157,\n",
       " 1.0802621684528169+/-0.017433851645816505)"
      ]
     },
     "execution_count": 3,
     "metadata": {},
     "output_type": "execute_result"
    }
   ],
   "source": [
    "fits = sorted(glob.glob('*slc.fits'))\n",
    "\n",
    "Rlist = []\n",
    "bad = [0,1,2,3,8,11,12,13,14,16]\n",
    "nitlist = [7,7,0,0,7,8,6,6,7,6,7,0,0,0,0,8,0,7]\n",
    "diff = []\n",
    "for n in range(len(fits)):\n",
    "    if n not in bad:\n",
    "        d = readclean(fits[n],'fits',1,'short') # read, clean short cadence data quarter\n",
    "        m = mean(d[2]) # calculate mean of the flux\n",
    "        d[2] = d[2]/mean(d[2]) # normalize flux\n",
    "        d[3] = d[3]/mean(d[3]) # normalize error\n",
    "        \n",
    "        w = whiten(d, 0.01, quarter = str(n+1), nit = nitlist[n], p = True) # whiten quarter\n",
    "        transit = detect_peaks(w[2], valley = True, mph = 0.015, mpd = 100) # roughly detect transit points\n",
    "        \n",
    "        amp = [] # calculate rough amplitude of each transit\n",
    "        for t in transit:\n",
    "            amp.append(abs(w[2][t]))\n",
    "        tamp = mean(amp) # average of rough amplitude, used to create template\n",
    "        \n",
    "        wilist = [] # roughly calculate width of each transit\n",
    "        for i in range(len(amp)):\n",
    "            l,u = transit[i]-200,transit[i]+200\n",
    "            trange = [w[1][l:u], w[2][l:u]]\n",
    "            width = findwidth(trange, amp[i])\n",
    "            wilist.append(width)\n",
    "        wiav = mean(wilist) # average of rough transit width, used to create template\n",
    "        \n",
    "        tvec = linspace(0, 0.01, 1000) # create gaussian template\n",
    "        gauss = gaussian(tamp, 0.005, wiav, tvec)\n",
    "        \n",
    "        ccf = signal.correlate(w[2], gauss, mode = 'same') # perform matched filtering\n",
    "        figure()\n",
    "        plot(w[1], ccf)\n",
    "        title('CCF (Q'+str(n+1)+')')\n",
    "        ylabel(r'$CCF$')\n",
    "        xlabel('Phase')\n",
    "        ticklabel_format(style='sci', axis='y', scilimits=(0,0))\n",
    "        tight_layout()\n",
    "        savefig(path+'ccf'+str(n+1)+'.png') # plot CCF\n",
    "        \n",
    "        if n+1 != 6: # detect ccf peaks\n",
    "            ploc = detect_peaks(ccf, mph = 1.5e-2, mpd = 1000)\n",
    "        if n+1 == 6: # special case for Q6\n",
    "            ploc = detect_peaks(ccf, mph = 2e-2, mpd = 1000)\n",
    "        \n",
    "        uflux = unp.uarray(w[2],w[3])\n",
    "        \n",
    "        avamp = []\n",
    "        for p in ploc: # better calculation of dip amplitude\n",
    "            l,u = p-10,p+10 # average among neighbors\n",
    "            av = mean(uflux[l:u])\n",
    "            avamp.append(abs(av))\n",
    "        \n",
    "        f, axarr = plt.subplots(len(ploc), sharey = True, figsize = (5,10)) # plot transit + template\n",
    "        for a in range(len(ploc)):\n",
    "            p = ploc[a]\n",
    "            l,u = p-200,p+200\n",
    "            trange = [w[1][l:u],w[2][l:u]]\n",
    "            width = findwidth(trange, avamp[a])\n",
    "            axarr[a].scatter(trange[0],trange[1])\n",
    "            axarr[a].plot(trange[0],gaussian(unp.nominal_values(avamp[a]),w[1][p],width,trange[0]), c = 'r', linewidth = 3.0)\n",
    "            axarr[a].set_xlim([min(trange[0]),max(trange[0])])\n",
    "            axarr[a].set_ylim(-0.025,0.015)\n",
    "            xlabel('Phase')\n",
    "            f.text(0.01,0.5,'Normalized Flux', va = 'center', rotation='vertical')\n",
    "            f.subplots_adjust(left=0.2)\n",
    "            axarr[0].set_title('Transits' + ', Q'+str(n+1))\n",
    "            plt.tight_layout\n",
    "            savefig(path+'transits'+str(n+1)+'.png')\n",
    "        \n",
    "        dettimes = [] # find detection times\n",
    "        r = 0\n",
    "        for p in ploc:\n",
    "            dettimes.append(w[0][p])\n",
    "        while r < len(dettimes)-1: # calculate interval between transits\n",
    "            t1 = dettimes[r]\n",
    "            t2 = dettimes[r+1]\n",
    "            d = t2-t1\n",
    "            if d < 10.:\n",
    "                diff.append(d)\n",
    "            r = r + 2\n",
    "\n",
    "        R = unc.ufloat(0.88,0.04)*9.951*mean(avamp)**0.5 # radius of planet according to quarter data\n",
    "        Rlist.append(R)\n",
    "\n",
    "period, perr = mean(diff), std(diff)/(len(diff))**0.5\n",
    "radius = mean(Rlist)\n",
    "period, perr, radius"
   ]
  },
  {
   "cell_type": "code",
   "execution_count": 47,
   "metadata": {
    "collapsed": false
   },
   "outputs": [
    {
     "data": {
      "text/plain": [
       "0.00098269048602536301"
      ]
     },
     "execution_count": 47,
     "metadata": {},
     "output_type": "execute_result"
    }
   ],
   "source": [
    "std(diff)/(len(diff))**0.5"
   ]
  },
  {
   "cell_type": "code",
   "execution_count": 5,
   "metadata": {
    "collapsed": false
   },
   "outputs": [
    {
     "data": {
      "text/plain": [
       "8.75688+/-0.39804"
      ]
     },
     "execution_count": 5,
     "metadata": {},
     "output_type": "execute_result"
    }
   ],
   "source": [
    "unc.ufloat(0.88,0.04)*9.951"
   ]
  },
  {
   "cell_type": "code",
   "execution_count": null,
   "metadata": {
    "collapsed": true
   },
   "outputs": [],
   "source": []
  }
 ],
 "metadata": {
  "kernelspec": {
   "display_name": "Python 2",
   "language": "python",
   "name": "python2"
  },
  "language_info": {
   "codemirror_mode": {
    "name": "ipython",
    "version": 2
   },
   "file_extension": ".py",
   "mimetype": "text/x-python",
   "name": "python",
   "nbconvert_exporter": "python",
   "pygments_lexer": "ipython2",
   "version": "2.7.13"
  }
 },
 "nbformat": 4,
 "nbformat_minor": 2
}
