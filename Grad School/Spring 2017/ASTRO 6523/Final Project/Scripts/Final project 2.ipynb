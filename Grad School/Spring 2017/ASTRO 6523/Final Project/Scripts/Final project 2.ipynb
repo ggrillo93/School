{
 "cells": [
  {
   "cell_type": "code",
   "execution_count": 5,
   "metadata": {
    "collapsed": false
   },
   "outputs": [],
   "source": [
    "from numpy import *\n",
    "from numpy import fft as fft\n",
    "from pandas import read_csv\n",
    "from matplotlib.pyplot import *\n",
    "from matplotlib import pyplot as plt\n",
    "from astropy.table import Table\n",
    "from astropy.stats import LombScargle\n",
    "from scipy import signal\n",
    "from detect_peaks import *\n",
    "import glob\n",
    "\n",
    "def gaussian(height,center,fwhm,xvec):\n",
    "    e=(-4*np.log(2)**2*(xvec-center)**2)/(fwhm**2)\n",
    "    g=height*np.exp(e)\n",
    "    return -g\n",
    "\n",
    "def whiten(timeflux, minpeak, quarter = '', nit = 5, p = False):\n",
    "    n = 1\n",
    "    if p == True:\n",
    "        f, axarr = plt.subplots(nit-1, sharex = True, figsize=(15,15))\n",
    "    time = timeflux[0]\n",
    "    phase = timeflux[1]\n",
    "    flux = timeflux[2]\n",
    "    while n < nit:\n",
    "        flux = flux-mean(flux)\n",
    "        if p == True:\n",
    "            axarr[n-1].scatter(phase,flux,marker='+',color='b')\n",
    "        freq, power = LombScargle(phase,flux).autopower()\n",
    "        peak = power.argmax()\n",
    "        best = freq[peak]\n",
    "        if best < minpeak:\n",
    "            print(\"Peak too small\")\n",
    "            break\n",
    "        else:\n",
    "            y = LombScargle(phase,flux).model(phase,best)\n",
    "            if p == True:\n",
    "                axarr[n-1].plot(phase,y,color='r')\n",
    "                axarr[n-1].set_ylim(min(flux)-100,max(flux)+100)\n",
    "            flux = subtract(flux, y)\n",
    "            n = n + 1\n",
    "    plt.setp([a.get_xticklabels() for a in axarr[0:-1]], visible=False)\n",
    "    plt.xlabel('Phase')\n",
    "    f.text(0.04,0.5,'Whitened Relative Flux (electrons/s)', va = 'center', rotation='vertical')\n",
    "    axarr[0].set_title('Lomb-Scargle Whitening' + ', Q'+quarter)\n",
    "    savefig('white'+quarter)\n",
    "    return asarray([time,phase,flux,timeflux[3],timeflux[4]])\n",
    "\n",
    "def readclean(name, fmt, hd, cadence):\n",
    "    data = asarray(Table.read(name, format = fmt, hdu = hd))\n",
    "    time = []\n",
    "    flux = []\n",
    "    phase = []\n",
    "    tinit, tfin = data[0][0], data[-1][0]\n",
    "    diff = tfin-tinit\n",
    "    if cadence == 'long':\n",
    "        for i in data:\n",
    "            if isnan(i[4]) == False:\n",
    "                time.append(i[0])\n",
    "                flux.append(i[4])\n",
    "                phase.append((i[0]-tinit)/diff)\n",
    "        return asarray([time,phase,flux,tinit,tfin])\n",
    "    elif cadence == 'short':\n",
    "        for n in range(len(data)):\n",
    "            if isnan(data[n][3]) == False and n < len(data)-1:\n",
    "                diff2 = abs(data[n+1][3]-data[n][3])\n",
    "                if diff2 < 50:\n",
    "                    time.append(data[n][0])\n",
    "                    flux.append(data[n][3])\n",
    "                    phase.append((data[n][0]-tinit)/diff)\n",
    "        return asarray([time,phase,flux,tinit,tfin])\n",
    "    else:\n",
    "        print(\"Cadence not valid\")\n",
    "        return\n",
    "\n",
    "def scplot(data, q):\n",
    "    q = str(q)\n",
    "    fig = plt.figure(figsize = (10,5))\n",
    "    ax1 = fig.add_subplot(111)\n",
    "    ax2 = ax1.twiny()\n",
    "    ax1.scatter(data[0],data[2], marker = '+', c = 'b')\n",
    "    ax1.set_xlabel('Time (BJD days)')\n",
    "    ax2.plot(data[1], ones(len(data[0])))\n",
    "    ax2.set_xlabel('Phase')\n",
    "    ax1.set_ylim(min(data[2])-150, max(data[2])+150)\n",
    "    ax1.set_ylabel('Flux (electrons/s)')\n",
    "    plt.title('Short Cadence Light Curve for Kepler-75, (Q'+q+')', y=1.15)\n",
    "    plt.tight_layout()\n",
    "    plt.savefig('sclc'+q+'.png')\n",
    "    return\n",
    "\n",
    "def findwidth(transit,amp):\n",
    "    l = []\n",
    "    for n in range(len(transit[0])-1):\n",
    "        time = transit[0][n]\n",
    "        flux1 = transit[1][n]\n",
    "        flux2 = transit[1][n+1]\n",
    "        if abs(flux1) >= amp/2. and flux1 < 0 and abs(flux2) >= amp/2. and flux2 < 0:\n",
    "            l.append(time)\n",
    "    return l[-1]-l[0]"
   ]
  },
  {
   "cell_type": "code",
   "execution_count": 2,
   "metadata": {
    "collapsed": false
   },
   "outputs": [
    {
     "name": "stderr",
     "output_type": "stream",
     "text": [
      "WARNING: UnitsWarning: 'BJD - 2454833' did not parse as fits unit: At col 0, Unit 'BJD' not supported by the FITS standard.  [astropy.units.core]\n",
      "WARNING: UnitsWarning: 'e-/s' did not parse as fits unit: At col 0, Unit 'e' not supported by the FITS standard.  [astropy.units.core]\n",
      "WARNING: UnitsWarning: 'pixels' did not parse as fits unit: At col 0, Unit 'pixels' not supported by the FITS standard. Did you mean pixel? [astropy.units.core]\n"
     ]
    }
   ],
   "source": [
    "fits = sorted(glob.glob('*slc.fits'))\n",
    "bad = [3,8,12,16]\n",
    "nitlist = [6,7,8,6,7,8,6,6,0,6,7,7,0,6,7,8,0,7]\n",
    "d = readclean(fits[6],'fits',1,'short')\n",
    "w = whiten(d, 0.01, quarter = str(7), nit = 6, p = True)"
   ]
  },
  {
   "cell_type": "code",
   "execution_count": 8,
   "metadata": {
    "collapsed": true
   },
   "outputs": [],
   "source": [
    "for n in range(len(fits)):\n",
    "    f = fits[n]\n",
    "    d = readclean(f, 'fits', 1, 'short')\n",
    "    scplot(d,n+1)"
   ]
  },
  {
   "cell_type": "code",
   "execution_count": 6,
   "metadata": {
    "collapsed": false
   },
   "outputs": [
    {
     "name": "stdout",
     "output_type": "stream",
     "text": [
      "[]\n"
     ]
    },
    {
     "ename": "IndexError",
     "evalue": "index out of range",
     "output_type": "error",
     "traceback": [
      "\u001b[0;31m---------------------------------------------------------------------------\u001b[0m",
      "\u001b[0;31mIndexError\u001b[0m                                Traceback (most recent call last)",
      "\u001b[0;32m<ipython-input-6-a34e1c159794>\u001b[0m in \u001b[0;36m<module>\u001b[0;34m()\u001b[0m\n\u001b[1;32m     53\u001b[0m \u001b[0;34m\u001b[0m\u001b[0m\n\u001b[1;32m     54\u001b[0m         \u001b[0;32mprint\u001b[0m\u001b[0;34m(\u001b[0m\u001b[0mploc\u001b[0m\u001b[0;34m)\u001b[0m\u001b[0;34m\u001b[0m\u001b[0m\n\u001b[0;32m---> 55\u001b[0;31m         \u001b[0mf\u001b[0m\u001b[0;34m,\u001b[0m \u001b[0maxarr\u001b[0m \u001b[0;34m=\u001b[0m \u001b[0mplt\u001b[0m\u001b[0;34m.\u001b[0m\u001b[0msubplots\u001b[0m\u001b[0;34m(\u001b[0m\u001b[0mlen\u001b[0m\u001b[0;34m(\u001b[0m\u001b[0mploc\u001b[0m\u001b[0;34m)\u001b[0m\u001b[0;34m,\u001b[0m \u001b[0msharey\u001b[0m \u001b[0;34m=\u001b[0m \u001b[0mTrue\u001b[0m\u001b[0;34m,\u001b[0m \u001b[0mfigsize\u001b[0m \u001b[0;34m=\u001b[0m \u001b[0;34m(\u001b[0m\u001b[0;36m5\u001b[0m\u001b[0;34m,\u001b[0m\u001b[0;36m10\u001b[0m\u001b[0;34m)\u001b[0m\u001b[0;34m)\u001b[0m \u001b[0;31m# plot transit + template\u001b[0m\u001b[0;34m\u001b[0m\u001b[0m\n\u001b[0m\u001b[1;32m     56\u001b[0m         \u001b[0;32mfor\u001b[0m \u001b[0ma\u001b[0m \u001b[0;32min\u001b[0m \u001b[0mrange\u001b[0m\u001b[0;34m(\u001b[0m\u001b[0mlen\u001b[0m\u001b[0;34m(\u001b[0m\u001b[0mploc\u001b[0m\u001b[0;34m)\u001b[0m\u001b[0;34m)\u001b[0m\u001b[0;34m:\u001b[0m\u001b[0;34m\u001b[0m\u001b[0m\n\u001b[1;32m     57\u001b[0m             \u001b[0mp\u001b[0m \u001b[0;34m=\u001b[0m \u001b[0mploc\u001b[0m\u001b[0;34m[\u001b[0m\u001b[0ma\u001b[0m\u001b[0;34m]\u001b[0m\u001b[0;34m\u001b[0m\u001b[0m\n",
      "\u001b[0;32m/usr/local/anaconda2/lib/python2.7/site-packages/matplotlib/pyplot.pyc\u001b[0m in \u001b[0;36msubplots\u001b[0;34m(nrows, ncols, sharex, sharey, squeeze, subplot_kw, gridspec_kw, **fig_kw)\u001b[0m\n\u001b[1;32m   1210\u001b[0m \u001b[0;34m\u001b[0m\u001b[0m\n\u001b[1;32m   1211\u001b[0m     \u001b[0;31m# Create first subplot separately, so we can share it if requested\u001b[0m\u001b[0;34m\u001b[0m\u001b[0;34m\u001b[0m\u001b[0m\n\u001b[0;32m-> 1212\u001b[0;31m     \u001b[0max0\u001b[0m \u001b[0;34m=\u001b[0m \u001b[0mfig\u001b[0m\u001b[0;34m.\u001b[0m\u001b[0madd_subplot\u001b[0m\u001b[0;34m(\u001b[0m\u001b[0mgs\u001b[0m\u001b[0;34m[\u001b[0m\u001b[0;36m0\u001b[0m\u001b[0;34m,\u001b[0m \u001b[0;36m0\u001b[0m\u001b[0;34m]\u001b[0m\u001b[0;34m,\u001b[0m \u001b[0;34m**\u001b[0m\u001b[0msubplot_kw\u001b[0m\u001b[0;34m)\u001b[0m\u001b[0;34m\u001b[0m\u001b[0m\n\u001b[0m\u001b[1;32m   1213\u001b[0m     \u001b[0maxarr\u001b[0m\u001b[0;34m[\u001b[0m\u001b[0;36m0\u001b[0m\u001b[0;34m]\u001b[0m \u001b[0;34m=\u001b[0m \u001b[0max0\u001b[0m\u001b[0;34m\u001b[0m\u001b[0m\n\u001b[1;32m   1214\u001b[0m \u001b[0;34m\u001b[0m\u001b[0m\n",
      "\u001b[0;32m/usr/local/anaconda2/lib/python2.7/site-packages/matplotlib/gridspec.pyc\u001b[0m in \u001b[0;36m__getitem__\u001b[0;34m(self, key)\u001b[0m\n\u001b[1;32m    156\u001b[0m                     \u001b[0mk1\u001b[0m \u001b[0;34m+=\u001b[0m \u001b[0mnrows\u001b[0m\u001b[0;34m\u001b[0m\u001b[0m\n\u001b[1;32m    157\u001b[0m                 \u001b[0;32mif\u001b[0m \u001b[0mk1\u001b[0m \u001b[0;34m>=\u001b[0m \u001b[0mnrows\u001b[0m \u001b[0;32mor\u001b[0m \u001b[0mk1\u001b[0m \u001b[0;34m<\u001b[0m \u001b[0;36m0\u001b[0m \u001b[0;34m:\u001b[0m\u001b[0;34m\u001b[0m\u001b[0m\n\u001b[0;32m--> 158\u001b[0;31m                     \u001b[0;32mraise\u001b[0m \u001b[0mIndexError\u001b[0m\u001b[0;34m(\u001b[0m\u001b[0;34m\"index out of range\"\u001b[0m\u001b[0;34m)\u001b[0m\u001b[0;34m\u001b[0m\u001b[0m\n\u001b[0m\u001b[1;32m    159\u001b[0m                 \u001b[0mrow1\u001b[0m\u001b[0;34m,\u001b[0m \u001b[0mrow2\u001b[0m \u001b[0;34m=\u001b[0m \u001b[0mk1\u001b[0m\u001b[0;34m,\u001b[0m \u001b[0mk1\u001b[0m\u001b[0;34m+\u001b[0m\u001b[0;36m1\u001b[0m\u001b[0;34m\u001b[0m\u001b[0m\n\u001b[1;32m    160\u001b[0m \u001b[0;34m\u001b[0m\u001b[0m\n",
      "\u001b[0;31mIndexError\u001b[0m: index out of range"
     ]
    }
   ],
   "source": [
    "fits = sorted(glob.glob('*slc.fits'))\n",
    "\n",
    "Rlist = []\n",
    "bad = [0,1,2,3,8,11,12,13,14,16]\n",
    "nitlist = [0,0,0,0,7,8,6,6,0,6,7,0,0,0,0,8,0,7]\n",
    "diff = []\n",
    "for n in range(len(fits)):\n",
    "    if n not in bad:\n",
    "        d = readclean(fits[n],'fits',1,'short') # read, clean short cadence data quarter\n",
    "        m = mean(d[2]) # calculate mean of the flux\n",
    "        d[2] = d[2]/mean(d[2])\n",
    "        \n",
    "        w = whiten(d, 0.01, quarter = str(n+1), nit = nitlist[n], p = True) # whiten quarter\n",
    "        \n",
    "        transit = detect_peaks(w[2], valley = True, mph = 100, mpd = 100) # roughly detect transit points\n",
    "        \n",
    "        amp = [] # calculate rough amplitude of each transit\n",
    "        for t in transit:\n",
    "            amp.append(abs(w[2][t]))\n",
    "        tamp = mean(amp) # average of rough amplitude, used to create template\n",
    "        \n",
    "        wilist = [] # roughly calculate width of each transit\n",
    "        for i in range(len(amp)):\n",
    "            l,u = transit[i]-200,transit[i]+200\n",
    "            trange = [w[1][l:u], w[2][l:u]]\n",
    "            width = findwidth(trange, amp[i])\n",
    "            wilist.append(width)\n",
    "        wiav = mean(wilist) # average of rough transit width, used to create template\n",
    "        \n",
    "        tvec = linspace(0, 0.01, 1000) # create gaussian template\n",
    "        gauss = gaussian(tamp, 0.005, wiav, tvec)\n",
    "        \n",
    "        ccf = signal.correlate(w[2], gauss, mode = 'same') # perform matched filtering\n",
    "        figure()\n",
    "        plot(w[1], ccf)\n",
    "        title('CCF (Q'+str(n+1)+')')\n",
    "        ylabel(r'$CCF$')\n",
    "        xlabel('Phase')\n",
    "        ticklabel_format(style='sci', axis='y', scilimits=(0,0))\n",
    "        tight_layout()\n",
    "        savefig('ccf'+str(n+1)+'.png') # plot CCF\n",
    "        \n",
    "        if n+1 != 6: # detect ccf peaks\n",
    "            ploc = detect_peaks(ccf, mph = 1e6, mpd = 1000)\n",
    "        if n+1 == 6: # special case for Q6\n",
    "            ploc = detect_peaks(ccf, mph = 1.1e6, mpd = 1000)\n",
    "        \n",
    "        avamp = []\n",
    "        for p in ploc: # better calculation of dip amplitude\n",
    "            l,u = p-10,p+10 # average among neighbors\n",
    "            av = mean(w[2][l:u])\n",
    "            avamp.append(abs(av))\n",
    "        \n",
    "        print(ploc)\n",
    "        f, axarr = plt.subplots(len(ploc), sharey = True, figsize = (5,10)) # plot transit + template\n",
    "        for a in range(len(ploc)):\n",
    "            p = ploc[a]\n",
    "            l,u = p-200,p+200\n",
    "            trange = [w[1][l:u],w[2][l:u]]\n",
    "            width = findwidth(trange, avamp[a])\n",
    "            axarr[a].scatter(trange[0],trange[1])\n",
    "            axarr[a].plot(trange[0],gaussian(avamp[a],w[1][p],width,trange[0]), c = 'r', linewidth = 3.0)\n",
    "            axarr[a].set_xlim([min(trange[0]),max(trange[0])])\n",
    "            xlabel('Phase')\n",
    "            f.text(0.001,0.5,'Normalized Flux', va = 'center', rotation='vertical')\n",
    "            f.subplots_adjust(left=0.2)\n",
    "            axarr[0].set_title('Transits' + ', Q'+str(n+1))\n",
    "            savefig('transits'+str(n+1)+'.png')\n",
    "        \n",
    "        dettimes = [] # find detection times\n",
    "        r = 0\n",
    "        for p in ploc:\n",
    "            dettimes.append(w[0][p])\n",
    "        while r < len(dettimes)-1: # calculate interval between transits\n",
    "            t1 = dettimes[r]\n",
    "            t2 = dettimes[r+1]\n",
    "            d = t2-t1\n",
    "            if d < 10.:\n",
    "                diff.append(d)\n",
    "            r = r + 2\n",
    "        \n",
    "        coeff = (m - mean(avamp))/m # (flux before transit - flux during transit) / flux before transit \n",
    "        R = 0.88*9.951*(1-coeff)**0.5 # radius of planet according to quarter data\n",
    "        Rlist.append(R)\n",
    "\n",
    "period, perr = mean(diff), std(diff)/(len(diff)**0.5)\n",
    "radius, rerr = mean(Rlist), std(Rlist)/(len(Rlist)**0.5)\n",
    "period, perr, radius, rerr"
   ]
  },
  {
   "cell_type": "code",
   "execution_count": 44,
   "metadata": {
    "collapsed": false
   },
   "outputs": [
    {
     "data": {
      "text/plain": [
       "[8.8881363178661559,\n",
       " 8.8813460875971941,\n",
       " 8.8828176481911214,\n",
       " 8.8870249627361773,\n",
       " 8.8811134820862208,\n",
       " 8.8787694328348152,\n",
       " 8.882922931923531,\n",
       " 8.8897619380368269,\n",
       " 8.884821888175793,\n",
       " 8.880692115148122,\n",
       " 8.8848657250637189]"
      ]
     },
     "execution_count": 44,
     "metadata": {},
     "output_type": "execute_result"
    }
   ],
   "source": [
    "diff"
   ]
  },
  {
   "cell_type": "code",
   "execution_count": null,
   "metadata": {
    "collapsed": true
   },
   "outputs": [],
   "source": []
  }
 ],
 "metadata": {
  "kernelspec": {
   "display_name": "Python 2",
   "language": "python",
   "name": "python2"
  },
  "language_info": {
   "codemirror_mode": {
    "name": "ipython",
    "version": 2
   },
   "file_extension": ".py",
   "mimetype": "text/x-python",
   "name": "python",
   "nbconvert_exporter": "python",
   "pygments_lexer": "ipython2",
   "version": "2.7.13"
  }
 },
 "nbformat": 4,
 "nbformat_minor": 2
}
